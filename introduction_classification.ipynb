{
 "cells": [
  {
   "cell_type": "code",
   "execution_count": 3,
   "metadata": {},
   "outputs": [],
   "source": [
    "#dog or pig?\n",
    "#features (1= yes, 0 = not)\n",
    "#pêlo longo?perna curta? faz auau?\n",
    "\n",
    "pig1 = [1,1,0]\n",
    "pig2 = [0,1,1]\n",
    "pig3 = [1,1,0]\n",
    "\n",
    "dog1 = [1,1,1]\n",
    "dog2 = [0,0,1]\n",
    "dog3 = [1,0,1]\n",
    "\n",
    "x_train = [pig1,pig2, pig3, dog1, dog2,dog3]\n",
    "y_train = [1,1,1,0,0,0]"
   ]
  },
  {
   "cell_type": "code",
   "execution_count": 4,
   "metadata": {},
   "outputs": [],
   "source": [
    "from sklearn.svm import LinearSVC"
   ]
  },
  {
   "cell_type": "markdown",
   "metadata": {},
   "source": [
    "\n",
    "\n",
    "#### O Que é `LinearSVC`?\n",
    "\n",
    "`LinearSVC` é uma classe do módulo `svm` (Support Vector Machines) da biblioteca `scikit-learn` em Python, usada para realizar **classificação linear**. Ele implementa uma versão otimizada do algoritmo **Support Vector Machine** (SVM) para problemas onde os dados podem ser separados por uma linha reta (ou hiperplano, em espaços de dimensões mais altas).\n",
    "\n",
    "### O Que é um Suporte Vetor (Support Vector)?\n",
    "\n",
    "O conceito central do algoritmo SVM é encontrar um **hiperplano de decisão** que melhor separa as classes de dados. \"Support vectors\" são os exemplos de dados (ou pontos) que estão mais próximos do hiperplano de separação e que \"suportam\" ou definem a margem máxima entre as classes. O objetivo é maximizar essa margem para melhorar a generalização do modelo para novos dados.\n",
    "\n"
   ]
  },
  {
   "cell_type": "code",
   "execution_count": 5,
   "metadata": {},
   "outputs": [
    {
     "data": {
      "text/plain": [
       "array([0])"
      ]
     },
     "execution_count": 5,
     "metadata": {},
     "output_type": "execute_result"
    }
   ],
   "source": [
    "model = LinearSVC()\n",
    "model.fit(x_train, y_train) # trinando o modelo com os dados \n",
    "\n",
    "unknown_animal = [1,1,1] # animais com pelo grande, perna grande e faz auau\n",
    "\n",
    "model.predict([unknown_animal]) #o modelo irá predizer a que classe esse animal pertence de acordo com\n",
    "# o que foi aprendido por ele "
   ]
  },
  {
   "cell_type": "code",
   "execution_count": 6,
   "metadata": {},
   "outputs": [
    {
     "name": "stdout",
     "output_type": "stream",
     "text": [
      "[0 0 0] [0, 1, 0]\n"
     ]
    }
   ],
   "source": [
    "unknown1 = [1,0,1]\n",
    "unknown2 = [1,0,0]\n",
    "unknown3 = [0,0,1]\n",
    "\n",
    "teste = [unknown1,unknown2, unknown3]\n",
    "predictions = model.predict(teste)\n",
    "\n",
    "real_values = [0,1,0] # valores reais de classificações para os animais desconhecidos:dog,pig, dog\n",
    "print(predictions,real_values)\n"
   ]
  },
  {
   "cell_type": "code",
   "execution_count": 7,
   "metadata": {},
   "outputs": [
    {
     "data": {
      "text/plain": [
       "0.6666666666666666"
      ]
     },
     "execution_count": 7,
     "metadata": {},
     "output_type": "execute_result"
    }
   ],
   "source": [
    "from sklearn.metrics import accuracy_score\n",
    "\n",
    "accuracy_score(real_values, predictions)"
   ]
  },
  {
   "cell_type": "markdown",
   "metadata": {},
   "source": [
    "### Métrica de Avaliação: `accuracy_score`\n",
    "\n",
    "A função `accuracy_score` da biblioteca `sklearn.metrics` é usada para calcular a acurácia de um modelo de classificação. A acurácia é definida como a proporção de previsões corretas em relação ao total de previsões."
   ]
  }
 ],
 "metadata": {
  "kernelspec": {
   "display_name": "base",
   "language": "python",
   "name": "python3"
  },
  "language_info": {
   "codemirror_mode": {
    "name": "ipython",
    "version": 3
   },
   "file_extension": ".py",
   "mimetype": "text/x-python",
   "name": "python",
   "nbconvert_exporter": "python",
   "pygments_lexer": "ipython3",
   "version": "3.9.7"
  }
 },
 "nbformat": 4,
 "nbformat_minor": 2
}
